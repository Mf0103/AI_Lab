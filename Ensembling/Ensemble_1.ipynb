{
 "cells": [
  {
   "cell_type": "code",
   "execution_count": 1,
   "id": "72a852ab-1a71-4782-a5bd-67d67808cf65",
   "metadata": {},
   "outputs": [],
   "source": [
    "import numpy as np\n",
    "from sklearn.model_selection import train_test_split\n",
    "from sklearn.preprocessing import MinMaxScaler\n",
    "from sklearn.neighbors import KNeighborsClassifier\n",
    "from sklearn.metrics import confusion_matrix, accuracy_score\n",
    "from sklearn.datasets import make_classification\n",
    "from sklearn.tree import DecisionTreeClassifier\n",
    "from sklearn.ensemble import BaggingClassifier, StackingClassifier, VotingClassifier, GradientBoostingClassifier\n"
   ]
  },
  {
   "cell_type": "code",
   "execution_count": 2,
   "id": "7d09e637-b0fe-4fd3-b035-f1693ef23528",
   "metadata": {},
   "outputs": [],
   "source": [
    "X_data, y_lables = make_classification(n_samples=1000, n_features=20, n_informative=2, n_classes=2, random_state=42)"
   ]
  },
  {
   "cell_type": "code",
   "execution_count": 3,
   "id": "0ec29151-3a38-4803-8f41-dd315110cf43",
   "metadata": {},
   "outputs": [],
   "source": [
    "scaler = MinMaxScaler()\n",
    "X_data_normalized = scaler.fit_transform(X_data)\n"
   ]
  },
  {
   "cell_type": "code",
   "execution_count": 4,
   "id": "3f104e51-c40e-4195-a78a-823b50526c22",
   "metadata": {},
   "outputs": [],
   "source": [
    "X_train, X_test, y_train, y_test = train_test_split(X_data_normalized, y_lables, test_size=0.3, random_state=42)"
   ]
  },
  {
   "cell_type": "code",
   "execution_count": 5,
   "id": "b77723e6-5f90-48c0-801e-152751f0ce58",
   "metadata": {},
   "outputs": [],
   "source": [
    "knn = KNeighborsClassifier(n_neighbors=5)\n",
    "dt = DecisionTreeClassifier(random_state=42)"
   ]
  },
  {
   "cell_type": "code",
   "execution_count": 6,
   "id": "dd61288c-c5d7-4c93-8463-b7ccdfa0ca26",
   "metadata": {},
   "outputs": [
    {
     "data": {
      "text/plain": [
       "0.8566666666666667"
      ]
     },
     "execution_count": 6,
     "metadata": {},
     "output_type": "execute_result"
    }
   ],
   "source": [
    "bagging_model = BaggingClassifier(estimator=dt, n_estimators=10, random_state=42)\n",
    "bagging_model.fit(X_train, y_train)\n",
    "bagging_pred = bagging_model.predict(X_test)\n",
    "accuracy_score(y_test, bagging_pred)"
   ]
  },
  {
   "cell_type": "code",
   "execution_count": 7,
   "id": "9c3c9cbc-697c-46ae-977e-ec368ea2bbdd",
   "metadata": {},
   "outputs": [
    {
     "data": {
      "text/plain": [
       "0.8233333333333334"
      ]
     },
     "execution_count": 7,
     "metadata": {},
     "output_type": "execute_result"
    }
   ],
   "source": [
    "stacking_model = StackingClassifier(estimators = [('knn', knn), ('dt', dt)], final_estimator = KNeighborsClassifier())\n",
    "\n",
    "stacking_model.fit(X_train, y_train)\n",
    "stacking_pred = stacking_model.predict(X_test)\n",
    "accuracy_score(y_test, stacking_pred)"
   ]
  },
  {
   "cell_type": "code",
   "execution_count": 8,
   "id": "f85f799a-2410-4e81-8a15-1f59a21bf0f4",
   "metadata": {},
   "outputs": [
    {
     "data": {
      "text/plain": [
       "0.87"
      ]
     },
     "execution_count": 8,
     "metadata": {},
     "output_type": "execute_result"
    }
   ],
   "source": [
    "boosting_model = GradientBoostingClassifier(n_estimators=100, random_state=42)\n",
    "boosting_model.fit(X_train, y_train)\n",
    "boosting_pred = boosting_model.predict(X_test)\n",
    "accuracy_score(y_test, boosting_pred)"
   ]
  },
  {
   "cell_type": "code",
   "execution_count": 9,
   "id": "365622c7-9413-45db-9a78-f78b5e422a83",
   "metadata": {},
   "outputs": [
    {
     "data": {
      "text/plain": [
       "0.8133333333333334"
      ]
     },
     "execution_count": 9,
     "metadata": {},
     "output_type": "execute_result"
    }
   ],
   "source": [
    "voting_model = VotingClassifier(estimators = [('knn', knn), ('dt', dt)], voting='hard')\n",
    "voting_model.fit(X_train, y_train)\n",
    "voting_pred = voting_model.predict(X_test)\n",
    "accuracy_score(y_test, voting_pred)"
   ]
  },
  {
   "cell_type": "code",
   "execution_count": null,
   "id": "9a098247-4d56-484d-9509-52808e314334",
   "metadata": {},
   "outputs": [],
   "source": []
  }
 ],
 "metadata": {
  "kernelspec": {
   "display_name": "Python 3 (ipykernel)",
   "language": "python",
   "name": "python3"
  },
  "language_info": {
   "codemirror_mode": {
    "name": "ipython",
    "version": 3
   },
   "file_extension": ".py",
   "mimetype": "text/x-python",
   "name": "python",
   "nbconvert_exporter": "python",
   "pygments_lexer": "ipython3",
   "version": "3.10.11"
  }
 },
 "nbformat": 4,
 "nbformat_minor": 5
}

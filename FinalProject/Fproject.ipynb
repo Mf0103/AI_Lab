{
 "cells": [
  {
   "cell_type": "code",
   "execution_count": 1,
   "id": "fb0ee77c-227e-4878-8ad9-600757f21c74",
   "metadata": {},
   "outputs": [],
   "source": [
    "import numpy as np\n",
    "from sklearn.model_selection import train_test_split\n",
    "from sklearn.preprocessing import MinMaxScaler\n",
    "from sklearn.neighbors import KNeighborsClassifier\n",
    "from sklearn.metrics import confusion_matrix, accuracy_score\n",
    "from sklearn.datasets import load_wine\n",
    "from sklearn.tree import DecisionTreeClassifier\n",
    "from sklearn.svm import SVC\n",
    "from sklearn.ensemble import BaggingClassifier, StackingClassifier, VotingClassifier, GradientBoostingClassifier"
   ]
  },
  {
   "cell_type": "code",
   "execution_count": 2,
   "id": "ecfab394-af0f-48bc-806d-ddb701876511",
   "metadata": {},
   "outputs": [],
   "source": [
    "wine = load_wine()\n",
    "X_data = wine.data\n",
    "y_labels = wine.target"
   ]
  },
  {
   "cell_type": "code",
   "execution_count": 3,
   "id": "123aee0f-2f6f-4952-bb08-f1e6d2cf9e2a",
   "metadata": {},
   "outputs": [],
   "source": [
    "scaler = MinMaxScaler()\n",
    "X_data_normalized = scaler.fit_transform(X_data)"
   ]
  },
  {
   "cell_type": "code",
   "execution_count": 4,
   "id": "c12751d7-d412-45eb-927e-8440a248f7ae",
   "metadata": {},
   "outputs": [],
   "source": [
    "X_train, X_test, y_train, y_test = train_test_split(X_data_normalized, y_labels, test_size=0.3, random_state=42)"
   ]
  },
  {
   "cell_type": "code",
   "execution_count": 5,
   "id": "f2edc220-f5b4-4603-b585-23ab9b70880c",
   "metadata": {},
   "outputs": [],
   "source": [
    "knn = KNeighborsClassifier(n_neighbors=5)\n",
    "dt = DecisionTreeClassifier(random_state=42)\n",
    "svm = SVC(random_state=42)"
   ]
  },
  {
   "cell_type": "code",
   "execution_count": 6,
   "id": "3bbc004d-c953-47fb-89a6-d82e32a3effe",
   "metadata": {},
   "outputs": [
    {
     "name": "stdout",
     "output_type": "stream",
     "text": [
      "Bagging Accuracy: 0.9259259259259259\n"
     ]
    }
   ],
   "source": [
    "\n",
    "bagging_model = BaggingClassifier(estimator=dt, n_estimators=10, random_state=42)\n",
    "bagging_model.fit(X_train, y_train)\n",
    "bagging_pred = bagging_model.predict(X_test)\n",
    "bagging_accuracy = accuracy_score(y_test, bagging_pred)\n",
    "print(f\"Bagging Accuracy: {bagging_accuracy}\")\n"
   ]
  },
  {
   "cell_type": "code",
   "execution_count": 7,
   "id": "941ece3a-be2b-4566-8fcc-b70586a70b21",
   "metadata": {},
   "outputs": [
    {
     "name": "stdout",
     "output_type": "stream",
     "text": [
      "Stacking Accuracy: 0.9814814814814815\n"
     ]
    }
   ],
   "source": [
    "\n",
    "stacking_model = StackingClassifier(estimators=[('knn', knn), ('dt', dt), ('svm', svm)], final_estimator=KNeighborsClassifier())\n",
    "stacking_model.fit(X_train, y_train)\n",
    "stacking_pred = stacking_model.predict(X_test)\n",
    "stacking_accuracy = accuracy_score(y_test, stacking_pred)\n",
    "print(f\"Stacking Accuracy: {stacking_accuracy}\")\n"
   ]
  },
  {
   "cell_type": "code",
   "execution_count": 8,
   "id": "4c1948c4-c032-471c-9002-b5e6657abe56",
   "metadata": {},
   "outputs": [
    {
     "name": "stdout",
     "output_type": "stream",
     "text": [
      "Boosting Accuracy: 0.9074074074074074\n"
     ]
    }
   ],
   "source": [
    "\n",
    "boosting_model = GradientBoostingClassifier(n_estimators=100, random_state=42)\n",
    "boosting_model.fit(X_train, y_train)\n",
    "boosting_pred = boosting_model.predict(X_test)\n",
    "boosting_accuracy = accuracy_score(y_test, boosting_pred)\n",
    "print(f\"Boosting Accuracy: {boosting_accuracy}\")\n"
   ]
  },
  {
   "cell_type": "code",
   "execution_count": 9,
   "id": "fc659018-9e43-492d-8aa9-1cba5ebe2055",
   "metadata": {},
   "outputs": [
    {
     "name": "stdout",
     "output_type": "stream",
     "text": [
      "Voting Accuracy: 1.0\n"
     ]
    }
   ],
   "source": [
    "\n",
    "voting_model = VotingClassifier(estimators=[('knn', knn), ('dt', dt), ('svm', svm)], voting='hard')\n",
    "voting_model.fit(X_train, y_train)\n",
    "voting_pred = voting_model.predict(X_test)\n",
    "voting_accuracy = accuracy_score(y_test, voting_pred)\n",
    "print(f\"Voting Accuracy: {voting_accuracy}\")\n"
   ]
  },
  {
   "cell_type": "code",
   "execution_count": null,
   "id": "a903e900-db34-4ce1-b2e9-82d120108046",
   "metadata": {},
   "outputs": [],
   "source": []
  }
 ],
 "metadata": {
  "kernelspec": {
   "display_name": "Python 3 (ipykernel)",
   "language": "python",
   "name": "python3"
  },
  "language_info": {
   "codemirror_mode": {
    "name": "ipython",
    "version": 3
   },
   "file_extension": ".py",
   "mimetype": "text/x-python",
   "name": "python",
   "nbconvert_exporter": "python",
   "pygments_lexer": "ipython3",
   "version": "3.10.11"
  }
 },
 "nbformat": 4,
 "nbformat_minor": 5
}

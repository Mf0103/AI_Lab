{
 "cells": [
  {
   "cell_type": "code",
   "execution_count": 13,
   "id": "5b03b65b-34b5-4431-b49b-ecc8875e4b27",
   "metadata": {},
   "outputs": [
    {
     "name": "stdout",
     "output_type": "stream",
     "text": [
      "['Mohammad' 'Ali']\n",
      "784\n"
     ]
    }
   ],
   "source": [
    "import numpy as np\n",
    "\n",
    "# Matrix 2*2\n",
    "_list1 = np.array([[542, 'Mohammad'], [784, 'Ali']])\n",
    "\n",
    "# Access to column 2 values\n",
    "print(_list1[:, 1])\n",
    "\n",
    "# Access to row 2 and column 1\n",
    "print(_list1[1, 0])\n"
   ]
  },
  {
   "cell_type": "code",
   "execution_count": 7,
   "id": "d71e43ab-6951-4fa5-b199-2ea9a7cee99f",
   "metadata": {},
   "outputs": [
    {
     "name": "stdout",
     "output_type": "stream",
     "text": [
      "48\n",
      "56\n",
      "12\n"
     ]
    }
   ],
   "source": [
    "# Matrix 3*3\n",
    "_list2 = np.array([[12, 45, 78], [49, 13, 48], [56, 89, 19]])\n",
    "\n",
    "# Access to row 2 and column 3\n",
    "print(_list2[1, 2])\n",
    "\n",
    "# Access to row 3 and column 1\n",
    "print(_list2[2, 0])\n",
    "\n",
    "# Access to row 1 and column 1\n",
    "print(_list2[0, 0])"
   ]
  },
  {
   "cell_type": "code",
   "execution_count": 19,
   "id": "fcec7bd5-80c4-4c25-8a37-571f1d0e8179",
   "metadata": {},
   "outputs": [
    {
     "name": "stdout",
     "output_type": "stream",
     "text": [
      "809\n",
      "[5156  809  199]\n",
      "[7008  418  199 9721]\n",
      "[[ 345 7008]\n",
      " [ 193  418]]\n"
     ]
    }
   ],
   "source": [
    "# Matrix 4*3\n",
    "_list3 = np.array([[1982, 345, 7008], [439, 193, 418], [5156, 809, 199], [456, 972, 9721]])\n",
    "\n",
    "# Access to row 3 and column 2\n",
    "print(_list3[2, 1])\n",
    "\n",
    "# Access to row 3\n",
    "print(_list3[2, :])\n",
    "\n",
    "# Access to column 3\n",
    "print(_list3[:, 2])\n",
    "\n",
    "# Access to row 1&2 and column 2&3\n",
    "print(_list3[0:2, 1:3])"
   ]
  }
 ],
 "metadata": {
  "kernelspec": {
   "display_name": "Python 3 (ipykernel)",
   "language": "python",
   "name": "python3"
  },
  "language_info": {
   "codemirror_mode": {
    "name": "ipython",
    "version": 3
   },
   "file_extension": ".py",
   "mimetype": "text/x-python",
   "name": "python",
   "nbconvert_exporter": "python",
   "pygments_lexer": "ipython3",
   "version": "3.10.11"
  }
 },
 "nbformat": 4,
 "nbformat_minor": 5
}

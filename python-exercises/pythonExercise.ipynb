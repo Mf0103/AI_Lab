{
 "cells": [
  {
   "cell_type": "code",
   "execution_count": 1,
   "id": "737af7d9-d089-4682-b27f-e2babed86d61",
   "metadata": {},
   "outputs": [
    {
     "name": "stdout",
     "output_type": "stream",
     "text": [
      "Ali Mohammadi\n"
     ]
    }
   ],
   "source": [
    "# Concat strings\n",
    "firstName = 'Ali'\n",
    "lastName = 'Mohammadi'\n",
    "\n",
    "print(firstName + ' ' + lastName)"
   ]
  },
  {
   "cell_type": "code",
   "execution_count": 2,
   "id": "813821b6-09ba-47bf-b870-dae4a6f70a54",
   "metadata": {},
   "outputs": [
    {
     "name": "stdin",
     "output_type": "stream",
     "text": [
      "Enter Your Grade:  12\n"
     ]
    },
    {
     "name": "stdout",
     "output_type": "stream",
     "text": [
      "Pass\n"
     ]
    }
   ],
   "source": [
    "# Get user grade and response based on its grade\n",
    "grade = int(input(\"Enter Your Grade: \"))\n",
    "\n",
    "if grade > 20 or grade < 0:\n",
    "    print('Out of range')\n",
    "elif grade >= 15:\n",
    "    print('Well done')\n",
    "elif grade > 12:\n",
    "    print('good')\n",
    "elif grade >= 10:\n",
    "    print('Pass')\n",
    "else:\n",
    "    print('Reject')"
   ]
  },
  {
   "cell_type": "code",
   "execution_count": 3,
   "id": "c720cb83-046e-4de1-b12f-8fa2fb9e23ce",
   "metadata": {},
   "outputs": [
    {
     "name": "stdin",
     "output_type": "stream",
     "text": [
      "Please enter a number:  12\n",
      "Please enter a number:  23\n",
      "Please enter a number:  45\n"
     ]
    },
    {
     "name": "stdout",
     "output_type": "stream",
     "text": [
      "45.0\n"
     ]
    }
   ],
   "source": [
    "# Take 3 numbers from user and print the greater one\n",
    "\n",
    "a = float(input('Please enter a number: '))\n",
    "b = float(input('Please enter a number: '))\n",
    "c = float(input('Please enter a number: '))\n",
    "\n",
    "if a > b:\n",
    "    if a > c:\n",
    "        print(a)\n",
    "    else:\n",
    "        print(c)\n",
    "else:\n",
    "    if b > c:\n",
    "        print(b)\n",
    "    else:\n",
    "        print(c)"
   ]
  },
  {
   "cell_type": "code",
   "execution_count": 4,
   "id": "6b200780-5618-4b6b-aaef-af7393bef463",
   "metadata": {},
   "outputs": [
    {
     "name": "stdout",
     "output_type": "stream",
     "text": [
      "[45, 23, 12, 78, 16, 13, 56]\n"
     ]
    }
   ],
   "source": [
    "# Merging lists\n",
    "\n",
    "_list1 = [45, 23, 12]\n",
    "_list2 = [78, 16, 13, 56]\n",
    "\n",
    "merged = _list1 + _list2\n",
    "\n",
    "print(merged)"
   ]
  },
  {
   "cell_type": "code",
   "execution_count": 5,
   "id": "e1c3484b-5049-418a-86ce-c8c19e5e583d",
   "metadata": {},
   "outputs": [
    {
     "name": "stdout",
     "output_type": "stream",
     "text": [
      "0\n",
      "2\n",
      "4\n",
      "6\n",
      "8\n",
      "10\n",
      "12\n",
      "14\n",
      "16\n",
      "18\n"
     ]
    }
   ],
   "source": [
    "# Print Even numbers from 0 to 20\n",
    "\n",
    "i = 0\n",
    "while i < 20:\n",
    "    if i % 2 == 0:\n",
    "        print(i)\n",
    "    i += 1"
   ]
  },
  {
   "cell_type": "code",
   "execution_count": 6,
   "id": "237ccc4b-0ff6-423c-b6a6-844bcd1c7994",
   "metadata": {},
   "outputs": [
    {
     "name": "stdin",
     "output_type": "stream",
     "text": [
      "Enter your name:  ali\n",
      "Enter your age:  24\n"
     ]
    },
    {
     "name": "stdout",
     "output_type": "stream",
     "text": [
      "Hi ali. You are 24 years old\n"
     ]
    }
   ],
   "source": [
    "# Using variables values in a sentences.\n",
    "userName = input(\"Enter your name: \")\n",
    "age = input(\"Enter your age: \")\n",
    "\n",
    "print(f\"Hi {userName}. You are {age} years old\")"
   ]
  },
  {
   "cell_type": "code",
   "execution_count": 9,
   "id": "442c720e-6670-4704-a64f-3a0ef824c833",
   "metadata": {},
   "outputs": [
    {
     "name": "stdin",
     "output_type": "stream",
     "text": [
      "Enter a list of numbers separated by commas:  4,5,8,45\n"
     ]
    },
    {
     "name": "stdout",
     "output_type": "stream",
     "text": [
      "The sum of the numbers is: 62\n",
      "The average of the numbers is: 15.5\n"
     ]
    }
   ],
   "source": [
    "# Get several numbers from user and calculate their sum and average\n",
    "numbers = input(\"Enter a list of numbers separated by commas: \")\n",
    "\n",
    "numbers_list = [int(num) for num in numbers.split(\",\")]\n",
    "\n",
    "sum_of_numbers = sum(numbers_list)\n",
    "average_of_numbers = sum_of_numbers / len(numbers_list)\n",
    "\n",
    "print(f\"The sum of the numbers is: {sum_of_numbers}\")\n",
    "print(f\"The average of the numbers is: {average_of_numbers}\")"
   ]
  },
  {
   "cell_type": "code",
   "execution_count": 10,
   "id": "b2321e14-7dbd-4df5-8ebd-f9745a4e6b52",
   "metadata": {},
   "outputs": [
    {
     "name": "stdin",
     "output_type": "stream",
     "text": [
      "Enter a number:  12\n"
     ]
    },
    {
     "name": "stdout",
     "output_type": "stream",
     "text": [
      "12 is between 10 and 20 or above 50.\n"
     ]
    }
   ],
   "source": [
    "# Check input number and return a response based its value\n",
    "number = int(input(\"Enter a number: \"))\n",
    "\n",
    "if (number >= 10 and number <= 20) or number > 50:\n",
    "    print(f\"{number} is between 10 and 20 or above 50.\")\n",
    "else:\n",
    "    print(f\"{number} is not between 10 and 20 or above 50.\")"
   ]
  },
  {
   "cell_type": "code",
   "execution_count": 11,
   "id": "ae4534ff-9de0-48b1-805b-477abd767571",
   "metadata": {},
   "outputs": [
    {
     "name": "stdout",
     "output_type": "stream",
     "text": [
      "3\n"
     ]
    }
   ],
   "source": [
    "# Below code check the values in the list and return the number of values with the type of float.\n",
    "\n",
    "numbers = [2, 1.7, 4.5, 18, 46, True, 'vahid', 9.51]\n",
    "\n",
    "countFloats = 0\n",
    "\n",
    "for i in numbers:\n",
    "    if type(i) == type(1.3):\n",
    "        countFloats += 1\n",
    "\n",
    "print(countFloats)"
   ]
  },
  {
   "cell_type": "code",
   "execution_count": 12,
   "id": "85b7a9d3-64c7-4e6e-8b19-a6b76b0bf4e4",
   "metadata": {},
   "outputs": [
    {
     "name": "stdout",
     "output_type": "stream",
     "text": [
      "Even numbers: [2, 48, 78, 20, 16, 78]\n",
      "Odd numbers: [65, 21, 23, 89, 15]\n"
     ]
    }
   ],
   "source": [
    "# Below code check the list and seprate the even and odd numbers in 2 lists\n",
    "_list = [2, 65, 48, 21, 78, 20, 23, 89, 15, 16, 78]\n",
    "\n",
    "evenNums = []\n",
    "oddNums = []\n",
    "\n",
    "for i in _list:\n",
    "    if i % 2 == 0:\n",
    "        evenNums.append(i)\n",
    "    else:\n",
    "        oddNums.append(i)\n",
    "\n",
    "print(f'Even numbers: {evenNums}')\n",
    "print(f'Odd numbers: {oddNums}')"
   ]
  },
  {
   "cell_type": "code",
   "execution_count": 13,
   "id": "c590b613-fb41-4513-9b4f-f206e52d7b55",
   "metadata": {},
   "outputs": [
    {
     "name": "stdin",
     "output_type": "stream",
     "text": [
      "Enter a number:  4\n"
     ]
    },
    {
     "name": "stdout",
     "output_type": "stream",
     "text": [
      "The factorial of 4 is: 24\n"
     ]
    }
   ],
   "source": [
    "# calculate factorial of a number\n",
    "\n",
    "num = int(input(\"Enter a number: \"))\n",
    "factorial = 1\n",
    "for i in range(1, num + 1):\n",
    "    factorial *= i\n",
    "print(\"The factorial of\", num, \"is:\", factorial)"
   ]
  },
  {
   "cell_type": "code",
   "execution_count": 14,
   "id": "1d78416f-639e-4ecd-95ed-1bb1137051dc",
   "metadata": {},
   "outputs": [
    {
     "name": "stdin",
     "output_type": "stream",
     "text": [
      "Enter the number of terms in the Fibonacci sequence:  10\n"
     ]
    },
    {
     "name": "stdout",
     "output_type": "stream",
     "text": [
      "0 1 1 2 3 5 8 13 21 34 "
     ]
    }
   ],
   "source": [
    "# Return the Fibonacci sequence in the number of the input value\n",
    "num_terms = int(input(\"Enter the number of terms in the Fibonacci sequence: \"))\n",
    "\n",
    "a, b = 0, 1\n",
    "count = 0\n",
    "\n",
    "while count < num_terms:\n",
    "    print(a, end=\" \")\n",
    "    nth = a + b\n",
    "    a = b\n",
    "    b = nth\n",
    "    count += 1"
   ]
  },
  {
   "cell_type": "code",
   "execution_count": 15,
   "id": "8b115b46-555f-4ef0-9644-01fb1ca9465c",
   "metadata": {},
   "outputs": [
    {
     "name": "stdin",
     "output_type": "stream",
     "text": [
      "Enter the number of lines to print:  4\n"
     ]
    },
    {
     "name": "stdout",
     "output_type": "stream",
     "text": [
      "*\n",
      "**\n",
      "***\n",
      "****\n"
     ]
    }
   ],
   "source": [
    "# Print stars line in number of input value\n",
    "num_lines = int(input(\"Enter the number of lines to print: \"))\n",
    "\n",
    "for i in range(1, num_lines + 1):\n",
    "    print(\"*\" * i)"
   ]
  },
  {
   "cell_type": "code",
   "execution_count": 16,
   "id": "d2087071-5f96-4dcd-bf63-17f5db482b82",
   "metadata": {},
   "outputs": [
    {
     "name": "stdin",
     "output_type": "stream",
     "text": [
      "Enter a sentence:  ali\n"
     ]
    },
    {
     "name": "stdout",
     "output_type": "stream",
     "text": [
      "The number of vowels in the sentence is: 2\n"
     ]
    }
   ],
   "source": [
    "# Return the number of vowel sound in string\n",
    "sentence = input(\"Enter a sentence: \")\n",
    "\n",
    "vowel_count = 0\n",
    "\n",
    "vowels = \"aeiouAEIOU\"\n",
    "\n",
    "for char in sentence:\n",
    "    if char in vowels:\n",
    "        vowel_count += 1\n",
    "\n",
    "print(f\"The number of vowels in the sentence is: {vowel_count}\")"
   ]
  },
  {
   "cell_type": "code",
   "execution_count": 17,
   "id": "3d5a1c38-9917-4ef2-b099-d25fa3598fbd",
   "metadata": {
    "scrolled": true
   },
   "outputs": [
    {
     "name": "stdout",
     "output_type": "stream",
     "text": [
      "The sum of all numbers in the tuple is: 150\n"
     ]
    }
   ],
   "source": [
    "# Calculate sum of the numbers in the tuple\n",
    "numbers = (10, 20, 30, 40, 50)\n",
    "\n",
    "total_sum = sum(numbers)\n",
    "\n",
    "print(f\"The sum of all numbers in the tuple is: {total_sum}\")"
   ]
  },
  {
   "cell_type": "code",
   "execution_count": 19,
   "id": "df80dc99-0ec3-462b-aa5e-0c65cbe92e81",
   "metadata": {},
   "outputs": [
    {
     "name": "stdout",
     "output_type": "stream",
     "text": [
      "{'a': 1, 'b': 3, 'c': 4}\n"
     ]
    }
   ],
   "source": [
    "# Merging 2 dictionary\n",
    "\n",
    "dict1 = {'a': 1, 'b': 2}\n",
    "dict2 = {'b': 3, 'c': 4}\n",
    "\n",
    "dict1.update(dict2)\n",
    "\n",
    "print(dict1)"
   ]
  },
  {
   "cell_type": "code",
   "execution_count": 20,
   "id": "0a8d4132-a3c4-4008-ad5c-25262cb9330c",
   "metadata": {},
   "outputs": [
    {
     "name": "stdout",
     "output_type": "stream",
     "text": [
      "{'name': 'Alice', 'age': 25}\n"
     ]
    }
   ],
   "source": [
    "# Create a dictionary from 2 lists.\n",
    "\n",
    "keys = ['name', 'age']\n",
    "values = ['Alice', 25]\n",
    "\n",
    "my_dict = dict(zip(keys, values))\n",
    "\n",
    "print(my_dict)\n"
   ]
  },
  {
   "cell_type": "code",
   "execution_count": 22,
   "id": "ec871e31-8d97-4e29-a9ce-c965395c1e74",
   "metadata": {},
   "outputs": [
    {
     "name": "stdin",
     "output_type": "stream",
     "text": [
      "Enter a name:  Ali\n"
     ]
    },
    {
     "name": "stdout",
     "output_type": "stream",
     "text": [
      "The age of Ali is 25\n"
     ]
    }
   ],
   "source": [
    "# Search in dictionary\n",
    "people = {\n",
    "    \"Ali\": 25,\n",
    "    \"Babak\": 30,\n",
    "    \"Mohammad\": 35,\n",
    "    \"Reza\": 40,\n",
    "    \"Maryam\": 45\n",
    "}\n",
    "\n",
    "name = input(\"Enter a name: \")\n",
    "\n",
    "if name in people:\n",
    "    print(f\"The age of {name} is {people[name]}\")\n",
    "else:\n",
    "    print(\"Name not found.\")"
   ]
  },
  {
   "cell_type": "code",
   "execution_count": 23,
   "id": "b493374b-d9ff-4c7e-b8a7-47412732e4d0",
   "metadata": {},
   "outputs": [
    {
     "name": "stdin",
     "output_type": "stream",
     "text": [
      "Enter the radius of the circle:  10\n"
     ]
    },
    {
     "name": "stdout",
     "output_type": "stream",
     "text": [
      "The area of the circle with radius 10.0 is 314.1592653589793\n"
     ]
    }
   ],
   "source": [
    "# a Function that calculate the area of the circle\n",
    "import math\n",
    "\n",
    "def calculate_area_circle(radius):\n",
    "    return math.pi * radius**2\n",
    "\n",
    "radius = float(input(\"Enter the radius of the circle: \"))\n",
    "\n",
    "area = calculate_area_circle(radius)\n",
    "\n",
    "print(f\"The area of the circle with radius {radius} is {area}\")"
   ]
  },
  {
   "cell_type": "code",
   "execution_count": 26,
   "id": "d0ae1333-2082-443e-b02d-ecb93d74efe7",
   "metadata": {},
   "outputs": [
    {
     "data": {
      "text/plain": [
       "'ila'"
      ]
     },
     "execution_count": 26,
     "metadata": {},
     "output_type": "execute_result"
    }
   ],
   "source": [
    "#Create a function that reverse the word\n",
    "def reverse_string(s):\n",
    "    return s[::-1]\n",
    "    \n",
    "reverse_string('ali')"
   ]
  },
  {
   "cell_type": "code",
   "execution_count": null,
   "id": "091dc346-e302-4ee9-ae83-f122678cb1de",
   "metadata": {},
   "outputs": [],
   "source": []
  }
 ],
 "metadata": {
  "kernelspec": {
   "display_name": "Python 3 (ipykernel)",
   "language": "python",
   "name": "python3"
  },
  "language_info": {
   "codemirror_mode": {
    "name": "ipython",
    "version": 3
   },
   "file_extension": ".py",
   "mimetype": "text/x-python",
   "name": "python",
   "nbconvert_exporter": "python",
   "pygments_lexer": "ipython3",
   "version": "3.10.11"
  }
 },
 "nbformat": 4,
 "nbformat_minor": 5
}

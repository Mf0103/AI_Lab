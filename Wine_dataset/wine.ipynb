{
 "cells": [
  {
   "cell_type": "code",
   "execution_count": 10,
   "id": "1beb7224-1076-4c6d-816a-ad62e4060787",
   "metadata": {},
   "outputs": [],
   "source": [
    "import numpy as np\n",
    "from sklearn.model_selection import train_test_split\n",
    "from sklearn.preprocessing import MinMaxScaler\n",
    "from sklearn.neighbors import KNeighborsClassifier\n",
    "from sklearn.metrics import confusion_matrix, accuracy_score\n",
    "from sklearn.datasets import load_wine\n",
    "from sklearn.tree import DecisionTreeClassifier\n",
    "from sklearn.ensemble import BaggingClassifier, StackingClassifier, VotingClassifier, GradientBoostingClassifier"
   ]
  },
  {
   "cell_type": "code",
   "execution_count": 11,
   "id": "cb7b53d5-5855-44c5-8e60-e0f51bf59c77",
   "metadata": {},
   "outputs": [],
   "source": [
    "wine = load_wine()\n",
    "X_data = wine.data\n",
    "y_labels = wine.target"
   ]
  },
  {
   "cell_type": "code",
   "execution_count": 12,
   "id": "5c5d5a1a-ceda-402c-82e1-30f708f1e8d8",
   "metadata": {},
   "outputs": [],
   "source": [
    "scaler = MinMaxScaler()\n",
    "X_data_normalized = scaler.fit_transform(X_data)"
   ]
  },
  {
   "cell_type": "code",
   "execution_count": 13,
   "id": "10beab2b-817e-4256-a047-5251d64342a0",
   "metadata": {},
   "outputs": [],
   "source": [
    "X_train, X_test, y_train, y_test = train_test_split(X_data_normalized, y_labels, test_size=0.3, random_state=42)"
   ]
  },
  {
   "cell_type": "code",
   "execution_count": 14,
   "id": "a2e7d761-45dc-48d1-925a-f53797ba87ab",
   "metadata": {},
   "outputs": [],
   "source": [
    "knn = KNeighborsClassifier(n_neighbors=5)\n",
    "dt = DecisionTreeClassifier(random_state=42)"
   ]
  },
  {
   "cell_type": "code",
   "execution_count": 15,
   "id": "87d6c773-4658-49e9-af7e-59c438dea1c0",
   "metadata": {},
   "outputs": [
    {
     "name": "stdout",
     "output_type": "stream",
     "text": [
      "Bagging Accuracy: 0.9259259259259259\n"
     ]
    }
   ],
   "source": [
    "bagging_model = BaggingClassifier(estimator=dt, n_estimators=10, random_state=42)\n",
    "bagging_model.fit(X_train, y_train)\n",
    "bagging_pred = bagging_model.predict(X_test)\n",
    "bagging_accuracy = accuracy_score(y_test, bagging_pred)\n",
    "print(f\"Bagging Accuracy: {bagging_accuracy}\")"
   ]
  },
  {
   "cell_type": "code",
   "execution_count": 16,
   "id": "3eec8bd3-ba23-4195-9008-d6c268dc5b3f",
   "metadata": {},
   "outputs": [
    {
     "name": "stdout",
     "output_type": "stream",
     "text": [
      "Stacking Accuracy: 0.9814814814814815\n"
     ]
    }
   ],
   "source": [
    "stacking_model = StackingClassifier(estimators=[('knn', knn), ('dt', dt)], final_estimator=KNeighborsClassifier())\n",
    "stacking_model.fit(X_train, y_train)\n",
    "stacking_pred = stacking_model.predict(X_test)\n",
    "stacking_accuracy = accuracy_score(y_test, stacking_pred)\n",
    "print(f\"Stacking Accuracy: {stacking_accuracy}\")"
   ]
  },
  {
   "cell_type": "code",
   "execution_count": 17,
   "id": "5949d5a3-f2b4-4f8d-b7c3-bb0f159cdae5",
   "metadata": {},
   "outputs": [
    {
     "name": "stdout",
     "output_type": "stream",
     "text": [
      "Boosting Accuracy: 0.9074074074074074\n"
     ]
    }
   ],
   "source": [
    "boosting_model = GradientBoostingClassifier(n_estimators=100, random_state=42)\n",
    "boosting_model.fit(X_train, y_train)\n",
    "boosting_pred = boosting_model.predict(X_test)\n",
    "boosting_accuracy = accuracy_score(y_test, boosting_pred)\n",
    "print(f\"Boosting Accuracy: {boosting_accuracy}\")"
   ]
  },
  {
   "cell_type": "code",
   "execution_count": 9,
   "id": "502894c5-4a75-4367-bf4a-13651756dc1c",
   "metadata": {},
   "outputs": [
    {
     "name": "stdout",
     "output_type": "stream",
     "text": [
      "Voting Accuracy: 0.9629629629629629\n"
     ]
    }
   ],
   "source": [
    "voting_model = VotingClassifier(estimators=[('knn', knn), ('dt', dt)], voting='hard')\n",
    "voting_model.fit(X_train, y_train)\n",
    "voting_pred = voting_model.predict(X_test)\n",
    "voting_accuracy = accuracy_score(y_test, voting_pred)\n",
    "print(f\"Voting Accuracy: {voting_accuracy}\")"
   ]
  },
  {
   "cell_type": "code",
   "execution_count": null,
   "id": "88cdfeba-58bf-4d83-a663-fab0d89df135",
   "metadata": {},
   "outputs": [],
   "source": []
  }
 ],
 "metadata": {
  "kernelspec": {
   "display_name": "Python 3 (ipykernel)",
   "language": "python",
   "name": "python3"
  },
  "language_info": {
   "codemirror_mode": {
    "name": "ipython",
    "version": 3
   },
   "file_extension": ".py",
   "mimetype": "text/x-python",
   "name": "python",
   "nbconvert_exporter": "python",
   "pygments_lexer": "ipython3",
   "version": "3.10.11"
  }
 },
 "nbformat": 4,
 "nbformat_minor": 5
}
